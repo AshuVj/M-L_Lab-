{
 "cells": [
  {
   "cell_type": "code",
   "execution_count": 23,
   "id": "1631aa79-39fb-46b5-bba6-b5842731fc78",
   "metadata": {},
   "outputs": [],
   "source": [
    "import numpy as np\n",
    "import pandas as pd"
   ]
  },
  {
   "cell_type": "code",
   "execution_count": 28,
   "id": "4bb7ecdd-7518-49af-9d12-297b76a5baf3",
   "metadata": {},
   "outputs": [
    {
     "data": {
      "text/html": [
       "<div>\n",
       "<style scoped>\n",
       "    .dataframe tbody tr th:only-of-type {\n",
       "        vertical-align: middle;\n",
       "    }\n",
       "\n",
       "    .dataframe tbody tr th {\n",
       "        vertical-align: top;\n",
       "    }\n",
       "\n",
       "    .dataframe thead th {\n",
       "        text-align: right;\n",
       "    }\n",
       "</style>\n",
       "<table border=\"1\" class=\"dataframe\">\n",
       "  <thead>\n",
       "    <tr style=\"text-align: right;\">\n",
       "      <th></th>\n",
       "      <th>Outlook</th>\n",
       "      <th>Temperature</th>\n",
       "      <th>Humidity</th>\n",
       "      <th>Wind</th>\n",
       "      <th>Play Tennis</th>\n",
       "    </tr>\n",
       "  </thead>\n",
       "  <tbody>\n",
       "    <tr>\n",
       "      <th>0</th>\n",
       "      <td>Sunny</td>\n",
       "      <td>Hot</td>\n",
       "      <td>High</td>\n",
       "      <td>Weak</td>\n",
       "      <td>No</td>\n",
       "    </tr>\n",
       "    <tr>\n",
       "      <th>1</th>\n",
       "      <td>Sunny</td>\n",
       "      <td>Hot</td>\n",
       "      <td>High</td>\n",
       "      <td>Strong</td>\n",
       "      <td>No</td>\n",
       "    </tr>\n",
       "    <tr>\n",
       "      <th>2</th>\n",
       "      <td>Overcast</td>\n",
       "      <td>Hot</td>\n",
       "      <td>High</td>\n",
       "      <td>Weak</td>\n",
       "      <td>Yes</td>\n",
       "    </tr>\n",
       "    <tr>\n",
       "      <th>3</th>\n",
       "      <td>Rain</td>\n",
       "      <td>Mild</td>\n",
       "      <td>High</td>\n",
       "      <td>Weak</td>\n",
       "      <td>Yes</td>\n",
       "    </tr>\n",
       "    <tr>\n",
       "      <th>4</th>\n",
       "      <td>Rain</td>\n",
       "      <td>Cool</td>\n",
       "      <td>Normal</td>\n",
       "      <td>Weak</td>\n",
       "      <td>Yes</td>\n",
       "    </tr>\n",
       "  </tbody>\n",
       "</table>\n",
       "</div>"
      ],
      "text/plain": [
       "    Outlook Temperature Humidity    Wind Play Tennis\n",
       "0     Sunny         Hot     High    Weak          No\n",
       "1     Sunny         Hot     High  Strong          No\n",
       "2  Overcast         Hot     High    Weak         Yes\n",
       "3      Rain        Mild     High    Weak         Yes\n",
       "4      Rain        Cool   Normal    Weak         Yes"
      ]
     },
     "execution_count": 28,
     "metadata": {},
     "output_type": "execute_result"
    }
   ],
   "source": [
    "df = pd.read_csv('PlayTennis.csv')\n",
    "df.head()"
   ]
  },
  {
   "cell_type": "code",
   "execution_count": 29,
   "id": "d326d61c-f2e7-4e9e-b6e9-f5e0bcd8afb2",
   "metadata": {},
   "outputs": [],
   "source": [
    "d = np.array(df)[:, :-1]\n",
    "target = np.array(df)[:, -1]"
   ]
  },
  {
   "cell_type": "code",
   "execution_count": 30,
   "id": "a8ca0923-0df4-4916-9a0c-a16f8029c027",
   "metadata": {},
   "outputs": [],
   "source": [
    "# Initialize specific and general hypotheses\n",
    "specific_hypothesis = ['0'] * (df_play.shape[1] - 1)\n",
    "general_hypothesis = ['?'] * (df_play.shape[1] - 1)\n",
    "\n",
    "for i, instance in df_play.iterrows():\n",
    "    if instance[\"Play Tennis\"] == \"Yes\":\n",
    "        # For positive instance, update specific hypothesis\n",
    "        for j in range(len(specific_hypothesis)):\n",
    "            if specific_hypothesis[j] == '0':\n",
    "                specific_hypothesis[j] = instance[j]\n",
    "            elif specific_hypothesis[j] != instance[j]:\n",
    "                specific_hypothesis[j] = '?'\n",
    "        \n",
    "        # Update general hypothesis\n",
    "        for j in range(len(general_hypothesis)):\n",
    "            if specific_hypothesis[j] != '?':\n",
    "                if specific_hypothesis[j] != instance[j]:\n",
    "                    general_hypothesis[j] = specific_hypothesis[j]\n",
    "                else:\n",
    "                    general_hypothesis[j] = '?'\n",
    "\n",
    "    else:\n",
    "        # For negative instance, update general hypothesis\n",
    "        for j in range(len(general_hypothesis)):\n",
    "            if specific_hypothesis[j] != '?' and specific_hypothesis[j] != instance[j]:\n",
    "                general_hypothesis[j] = specific_hypothesis[j]\n",
    "                specific_hypothesis[j] = '?'\n",
    "\n"
   ]
  },
  {
   "cell_type": "code",
   "execution_count": 31,
   "id": "50a32edc-33ce-4812-9b80-d2435b4097be",
   "metadata": {},
   "outputs": [
    {
     "name": "stdout",
     "output_type": "stream",
     "text": [
      "Final specific hypothesis: ['?', '?', '?', '?']\n",
      "Final general hypothesis: ['0', '0', '0', '0']\n"
     ]
    }
   ],
   "source": [
    "\n",
    "print(\"Final specific hypothesis:\", specific_hypothesis)\n",
    "print(\"Final general hypothesis:\", general_hypothesis)"
   ]
  },
  {
   "cell_type": "code",
   "execution_count": null,
   "id": "d8ffe2ed-cb21-4a33-be23-f92c2661fdf6",
   "metadata": {},
   "outputs": [],
   "source": []
  }
 ],
 "metadata": {
  "kernelspec": {
   "display_name": "Python 3 (ipykernel)",
   "language": "python",
   "name": "python3"
  },
  "language_info": {
   "codemirror_mode": {
    "name": "ipython",
    "version": 3
   },
   "file_extension": ".py",
   "mimetype": "text/x-python",
   "name": "python",
   "nbconvert_exporter": "python",
   "pygments_lexer": "ipython3",
   "version": "3.11.7"
  }
 },
 "nbformat": 4,
 "nbformat_minor": 5
}
